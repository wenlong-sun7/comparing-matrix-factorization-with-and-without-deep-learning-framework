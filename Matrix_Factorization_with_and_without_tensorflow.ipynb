{
 "cells": [
  {
   "cell_type": "code",
   "execution_count": 1,
   "metadata": {},
   "outputs": [
    {
     "name": "stderr",
     "output_type": "stream",
     "text": [
      "C:\\Users\\User\\AppData\\Local\\conda\\conda\\envs\\tensorflow1\\lib\\site-packages\\h5py\\__init__.py:36: FutureWarning: Conversion of the second argument of issubdtype from `float` to `np.floating` is deprecated. In future, it will be treated as `np.float64 == np.dtype(float).type`.\n",
      "  from ._conv import register_converters as _register_converters\n"
     ]
    }
   ],
   "source": [
    "\n",
    "import tensorflow as tf\n",
    "import numpy as np\n",
    "import pandas as pd\n",
    "import time\n",
    "import matplotlib.pylab as plt"
   ]
  },
  {
   "cell_type": "markdown",
   "metadata": {},
   "source": [
    "#  Matrix factorization with Tensorflow framework\n",
    "## It only use tensorflow framework to accumulate the MF speed"
   ]
  },
  {
   "cell_type": "code",
   "execution_count": 35,
   "metadata": {},
   "outputs": [],
   "source": [
    "### matrix factorization with Tensorflow\n",
    "\n",
    "def TensorFlow_MF(R_df,test):\n",
    "    ## load the movielens data 100k\n",
    "\n",
    "    A_df_masked= R_df\n",
    "\n",
    "    # np_mask = A_df_masked.notnull()\n",
    "    # np_mask\n",
    "\n",
    "    np_mask = R_df>0\n",
    "\n",
    "    # Boolean mask for computing cost only on valid (not missing) entries\n",
    "    tf_mask = tf.Variable(np_mask.values)\n",
    "\n",
    "    A = tf.constant(A_df_masked.values)\n",
    "    shape = A_df_masked.values.shape\n",
    "\n",
    "    #latent factors\n",
    "    rank = 10 \n",
    "\n",
    "    start_time = time.time()\n",
    "    # Initializing random H and W\n",
    "    temp_H = np.random.randn(rank, shape[1]).astype(np.float64)\n",
    "    temp_H = np.divide(temp_H, temp_H.max())\n",
    "\n",
    "    temp_W = np.random.randn(shape[0], rank).astype(np.float64)\n",
    "    temp_W = np.divide(temp_W, temp_W.max())\n",
    "\n",
    "    H =  tf.Variable(temp_H)\n",
    "    W = tf.Variable(temp_W)\n",
    "    WH = tf.matmul(W, H)\n",
    "\n",
    "    #cost function \n",
    "    #cost of Frobenius norm\n",
    "    cost = tf.reduce_sum(tf.pow(tf.boolean_mask(A, tf_mask) - tf.boolean_mask(WH, tf_mask), 2))\n",
    "\n",
    "    # Learning rate\n",
    "    lr = 0.001\n",
    "    # Number of steps\n",
    "    train_step = tf.train.GradientDescentOptimizer(lr).minimize(cost)\n",
    "    init = tf.global_variables_initializer()\n",
    "\n",
    "    # Ensure non-negativity\n",
    "    # Clipping operation. This ensure that W and H learnt are non-negative\n",
    "    clip_W = W.assign(tf.maximum(tf.zeros_like(W), W))\n",
    "    clip_H = H.assign(tf.maximum(tf.zeros_like(H), H))\n",
    "    clip = tf.group(clip_W, clip_H)\n",
    "\n",
    "    # main tensor flow iteration\n",
    "    steps = 2000\n",
    "    with tf.Session() as sess:\n",
    "        sess.run(init)\n",
    "        for i in range(steps):\n",
    "            sess.run(train_step)\n",
    "            sess.run(clip)\n",
    "#             if i%100==0:\n",
    "#                 print(\"\\nCost: %f\" % sess.run(cost))\n",
    "#                 print(\"*\"*40)\n",
    "        learnt_W = sess.run(W)\n",
    "        learnt_H = sess.run(H)\n",
    "    # evaluate\n",
    "    pred = np.dot(learnt_W, learnt_H)\n",
    "    pred_df = pd.DataFrame(pred)\n",
    "    time_duration = time.time()-start_time\n",
    "    test_mask = test>0\n",
    "#     pred_df.round()\n",
    "    RMSE = np.sqrt(np.sum(np.power(pred-test,2)*test_mask)/np.sum(test_mask))\n",
    "    print(RMSE)\n",
    "    return RMSE, time_duration\n",
    "    \n",
    "#resource:  https://nipunbatra.github.io/blog/2017/nnmf-tensorflow.html"
   ]
  },
  {
   "cell_type": "markdown",
   "metadata": {},
   "source": [
    "# Regulare Matrix Factorization with gradient descent"
   ]
  },
  {
   "cell_type": "code",
   "execution_count": 3,
   "metadata": {},
   "outputs": [],
   "source": [
    "## matrix factorization with regular Gradient descent\n",
    "\n",
    "import numpy as np\n",
    "import math\n",
    "\n",
    "def matrix_factorization(R,  K, steps=200,  alpha=0.001, beta=0.02):\n",
    "    N = len(R)\n",
    "    M = len(R[0])\n",
    "\n",
    "    P = np.random.rand(N,K)\n",
    "    Q = np.random.rand(M,K)\n",
    "    Q = Q.T\n",
    "    for step in range(steps):\n",
    "#         print(step)\n",
    "        for i in range(len(R)):\n",
    "            for j in range(len(R[i])):\n",
    "                if R[i][j] > 0:\n",
    "                    eij = R[i][j] - np.dot(P[i,:],Q[:,j])\n",
    "                    for k in range(K):\n",
    "                        P[i][k] = P[i][k] + alpha * (2 * eij * Q[k][j] - beta * P[i][k])\n",
    "                        Q[k][j] = Q[k][j] + alpha * (2 * eij * P[i][k] - beta * Q[k][j])\n",
    "        e = 0\n",
    "        for i in range(len(R)):\n",
    "            for j in range(len(R[i])):\n",
    "                if R[i][j] > 0:\n",
    "                    e = e + pow(R[i][j] - np.dot(P[i,:],Q[:,j]), 2)\n",
    "                    for k in range(K):\n",
    "                        e = e + (beta/2) * ( pow(P[i][k],2) + pow(Q[k][j],2) )\n",
    "#        print e\n",
    "        if e < 0.001:\n",
    "            break\n",
    "    print('+++++++++++Finished+++++++++++')\n",
    "    return P, Q, e"
   ]
  },
  {
   "cell_type": "code",
   "execution_count": 22,
   "metadata": {},
   "outputs": [],
   "source": [
    "\n",
    "def train_test_split(ratings):\n",
    "    test = np.zeros(ratings.shape)\n",
    "    print(test.shape)\n",
    "    train = ratings.copy()\n",
    "    for user in range(ratings.shape[0]):\n",
    "        test_ratings = np.random.choice(ratings[user, :].nonzero()[0], size=10, replace=False)\n",
    "        train[user][test_ratings] = 0\n",
    "        for j in test_ratings:\n",
    "            test[user][j] = ratings[user][j]\n",
    "    return train, test"
   ]
  },
  {
   "cell_type": "code",
   "execution_count": 23,
   "metadata": {},
   "outputs": [
    {
     "name": "stdout",
     "output_type": "stream",
     "text": [
      "(943, 1682)\n"
     ]
    }
   ],
   "source": [
    "import pandas as pd\n",
    "# pass in column names for each CSV\n",
    "u_cols = ['user_id', 'age', 'sex', 'occupation', 'zip_code']\n",
    "users = pd.read_csv('ml-100k\\\\u.user', sep='|', names=u_cols)\n",
    "\n",
    "r_cols = ['user_id', 'movie_id', 'rating', 'unix_timestamp']\n",
    "ratings = pd.read_csv('ml-100k\\\\u.data', sep='\\t', names=r_cols,encoding='latin-1')\n",
    "\n",
    "# the movies file contains columns indicating the movie's genres\n",
    "# let's only load the first five columns of the file with usecols\n",
    "m_cols = ['movie_id', 'title', 'release_date', 'video_release_date', 'imdb_url']\n",
    "movies = pd.read_csv('ml-100k\\\\u.item', sep='|', names=m_cols, usecols=range(5),encoding='latin-1')\n",
    "\n",
    "# create one merged DataFrame\n",
    "movie_ratings = pd.merge(movies, ratings)\n",
    "lens = pd.merge(movie_ratings, users)\n",
    "\n",
    "Ratings = movie_ratings.pivot(index = 'user_id', columns ='movie_id', values = 'rating').fillna(0)\n",
    "\n",
    "\n",
    "R_df, test = train_test_split(Ratings.values)"
   ]
  },
  {
   "cell_type": "code",
   "execution_count": 31,
   "metadata": {},
   "outputs": [
    {
     "name": "stdout",
     "output_type": "stream",
     "text": [
      "--- RMSE 0.7992821849915749---\n",
      "--- 1056.0881378650665 seconds ---\n"
     ]
    }
   ],
   "source": [
    "### regular matrix factorization without deep learning framework\n",
    "start_time = time.time()\n",
    "p,q, error = matrix_factorization(R_df,10)\n",
    "pred = np.dot(p,q)\n",
    "end_time = time.time()\n",
    "test_mask = test>0\n",
    "RMSE = np.sqrt(np.sum(np.power(pred-test,2)*test_mask)/np.sum(test_mask))\n",
    "print('--- RMSE %s---' % (RMSE))\n",
    "print(\"--- %s seconds ---\" % (end_time - start_time))"
   ]
  },
  {
   "cell_type": "code",
   "execution_count": 36,
   "metadata": {},
   "outputs": [
    {
     "name": "stdout",
     "output_type": "stream",
     "text": [
      "1.5358301504373773\n",
      "--- 39.80103898048401 seconds ---\n",
      "---RMSE 1.5358301504373773---\n"
     ]
    }
   ],
   "source": [
    "### matrix factorization with tensor flow with CF\n",
    "R_df1 = pd.DataFrame(R_df,test)\n",
    "rmse_1, dur_time = TensorFlow_MF(R_df1,test)\n",
    "print(\"--- %s seconds ---\" %  (dur_time))\n",
    "\n",
    "print('---RMSE %s---' % (rmse_1))"
   ]
  },
  {
   "cell_type": "markdown",
   "metadata": {},
   "source": [
    "# Matrix factorization with tensorflow framework\n",
    "## it first applies user embedding and item embedding\n",
    "## It use neural network to train"
   ]
  },
  {
   "cell_type": "code",
   "execution_count": 37,
   "metadata": {},
   "outputs": [
    {
     "name": "stderr",
     "output_type": "stream",
     "text": [
      "C:\\Users\\User\\AppData\\Local\\conda\\conda\\envs\\tensorflow1\\lib\\site-packages\\ipykernel_launcher.py:24: UserWarning: The `merge` function is deprecated and will be removed after 08/2017. Use instead layers from `keras.layers.merge`, e.g. `add`, `concatenate`, etc.\n",
      "C:\\Users\\User\\AppData\\Local\\conda\\conda\\envs\\tensorflow1\\lib\\site-packages\\keras\\legacy\\layers.py:465: UserWarning: The `Merge` layer is deprecated and will be removed after 08/2017. Use instead layers from `keras.layers.merge`, e.g. `add`, `concatenate`, etc.\n",
      "  name=name)\n"
     ]
    },
    {
     "name": "stdout",
     "output_type": "stream",
     "text": [
      "--- 193.3180012702942 seconds ---\n",
      "---RMSE 1.1092790451459902---\n"
     ]
    },
    {
     "data": {
      "image/png": "[encoded data removed]",
      "text/plain": [
       "<Figure size 432x288 with 1 Axes>"
      ]
     },
     "metadata": {},
     "output_type": "display_data"
    }
   ],
   "source": [
    "## Matrix factorization with user embedding and item embedding\n",
    "\n",
    "dataset = pd.read_csv(\"ml-100k\\\\u.data\",sep='\\t',names=\"user_id,item_id,rating,timestamp\".split(\",\"))\n",
    "dataset.user_id = dataset.user_id.astype('category').cat.codes.values\n",
    "dataset.item_id = dataset.item_id.astype('category').cat.codes.values\n",
    "from sklearn.model_selection import train_test_split\n",
    "train, test = train_test_split(dataset, test_size=0.2)\n",
    "\n",
    "import keras\n",
    "from IPython.display import SVG\n",
    "from keras.optimizers import Adam\n",
    "from keras.utils.vis_utils import model_to_dot\n",
    "import matplotlib.pyplot as plt\n",
    "\n",
    "n_users, n_movies = len(dataset.user_id.unique()), len(dataset.item_id.unique())\n",
    "n_latent_factors = 10\n",
    "movie_input = keras.layers.Input(shape=[1],name='Item')\n",
    "movie_embedding = keras.layers.Embedding(n_movies + 1, n_latent_factors, name='Movie-Embedding')(movie_input)\n",
    "movie_vec = keras.layers.Flatten(name='FlattenMovies')(movie_embedding)\n",
    "\n",
    "user_input = keras.layers.Input(shape=[1],name='User')\n",
    "user_vec = keras.layers.Flatten(name='FlattenUsers')(keras.layers.Embedding(n_users + 1, n_latent_factors,name='User-Embedding')(user_input))\n",
    "\n",
    "prod = keras.layers.merge([movie_vec, user_vec], mode='dot',name='DotProduct')\n",
    "model = keras.Model([user_input, movie_input], prod)\n",
    "model.compile('adam', 'mean_squared_error')\n",
    "\n",
    "start_time = time.time()\n",
    "history = model.fit([train.user_id, train.item_id], train.rating, epochs=100, verbose=0)\n",
    "\n",
    "end_time = time.time()\n",
    "pd.Series(history.history['loss']).plot(logy=True)\n",
    "plt.xlabel(\"Epoch\")\n",
    "plt.ylabel(\"Train Error\")\n",
    "y_hat = np.round(model.predict([test.user_id, test.item_id]),0)\n",
    "\n",
    "dur_time = end_time-start_time\n",
    "y_true = test.rating\n",
    "print(\"--- %s seconds ---\" %  (dur_time))\n",
    "from sklearn.metrics import mean_squared_error\n",
    "\n",
    "RMSE2=mean_squared_error(y_true, y_hat)\n",
    "print('---RMSE %s---' %(np.sqrt(RMSE2)))"
   ]
  },
  {
   "cell_type": "code",
   "execution_count": 11,
   "metadata": {},
   "outputs": [
    {
     "name": "stdout",
     "output_type": "stream",
     "text": [
      "__________________________________________________________________________________________________\n",
      "Layer (type)                    Output Shape         Param #     Connected to                     \n",
      "==================================================================================================\n",
      "Item (InputLayer)               (None, 1)            0                                            \n",
      "__________________________________________________________________________________________________\n",
      "User (InputLayer)               (None, 1)            0                                            \n",
      "__________________________________________________________________________________________________\n",
      "Movie-Embedding (Embedding)     (None, 1, 10)        16830       Item[0][0]                       \n",
      "__________________________________________________________________________________________________\n",
      "User-Embedding (Embedding)      (None, 1, 10)        9440        User[0][0]                       \n",
      "__________________________________________________________________________________________________\n",
      "FlattenMovies (Flatten)         (None, 10)           0           Movie-Embedding[0][0]            \n",
      "__________________________________________________________________________________________________\n",
      "FlattenUsers (Flatten)          (None, 10)           0           User-Embedding[0][0]             \n",
      "__________________________________________________________________________________________________\n",
      "DotProduct (Merge)              (None, 1)            0           FlattenMovies[0][0]              \n",
      "                                                                 FlattenUsers[0][0]               \n",
      "==================================================================================================\n",
      "Total params: 26,270\n",
      "Trainable params: 26,270\n",
      "Non-trainable params: 0\n",
      "__________________________________________________________________________________________________\n"
     ]
    }
   ],
   "source": [
    "model.summary()"
   ]
  },
  {
   "cell_type": "markdown",
   "metadata": {},
   "source": [
    "# conclusion"
   ]
  },
  {
   "cell_type": "markdown",
   "metadata": {},
   "source": [
    "# We can see here that regular give a good RMSE, but it takes much longer\n",
    "# We can see the TensorFlow framework does not help the MF a lot. It takes less time but RMSE is not good\n",
    "# The Matrix factorization with users embedding and item embedding has decent RMSE as well as running time"
   ]
  },
  {
   "cell_type": "code",
   "execution_count": null,
   "metadata": {},
   "outputs": [],
   "source": []
  }
 ],
 "metadata": {
  "kernelspec": {
   "display_name": "Python 3",
   "language": "python",
   "name": "python3"
  },
  "language_info": {
   "codemirror_mode": {
    "name": "ipython",
    "version": 3
   },
   "file_extension": ".py",
   "mimetype": "text/x-python",
   "name": "python",
   "nbconvert_exporter": "python",
   "pygments_lexer": "ipython3",
   "version": "3.5.5"
  }
 },
 "nbformat": 4,
 "nbformat_minor": 2
}
